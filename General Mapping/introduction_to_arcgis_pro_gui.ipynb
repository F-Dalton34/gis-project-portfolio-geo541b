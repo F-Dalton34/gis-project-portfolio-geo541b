{
  "nbformat": 4,
  "nbformat_minor": 0,
  "metadata": {
    "colab": {
      "provenance": [],
      "include_colab_link": true
    },
    "kernelspec": {
      "name": "python3",
      "display_name": "Python 3"
    },
    "language_info": {
      "name": "python"
    }
  },
  "cells": [
    {
      "cell_type": "markdown",
      "metadata": {
        "id": "view-in-github",
        "colab_type": "text"
      },
      "source": [
        "<a href=\"https://colab.research.google.com/github/F-Dalton34/gis-project-portfolio-geo541b/blob/main/Weekly_Assignments/introduction_to_arcgis_pro_gui.ipynb\" target=\"_parent\"><img src=\"https://colab.research.google.com/assets/colab-badge.svg\" alt=\"Open In Colab\"/></a>"
      ]
    },
    {
      "cell_type": "markdown",
      "source": [
        "## **GEO 441B/541B Week 1 Assignment: Introduction to ArcGIS Pro GUI**"
      ],
      "metadata": {
        "id": "C0ymCPR5aSHN"
      }
    },
    {
      "cell_type": "markdown",
      "source": [
        "Created by Faith Dalton\n",
        "\n",
        "Due 9/1/2024"
      ],
      "metadata": {
        "id": "Pt_OREXFPvkr"
      }
    },
    {
      "cell_type": "markdown",
      "source": [
        "### **Create my first map using ArcGIS Pro**\n",
        "\n",
        "1. **Instructions**\n",
        "   - Follow mapping instructions from [this Canvas file](https://miamioh.instructure.com/courses/218994/files/32640807?wrap=1)\n",
        "   - Mapping instructions are adapted from *Lab 1: Introduction to ArcGIS Pro* in [GIS Fundamentals Resources page](https://www.gisfundamentals.org/resources)\n",
        "\n",
        "2. **Share map**\n",
        "   - Upload the PNG file exported from ArcGIS Pro to my Google Drive folder for Week 1 assignment\n",
        "   - Change Share privilege to make this file viewable by anyone with a link\n",
        "   - Copy the sharable link\n",
        "\n",
        "3. **Obtain a sharable link**\n",
        "\n",
        "   - The default link I get for this PNG file is listed below but it cannot be directly used in Notebook to show the picture correctly\n",
        "```\n",
        "https://drive.google.com/file/d/17fESsU-vCHHAOnxhN456YZEKTpyWT99z/view?usp=sharing\n",
        "```\n",
        "   - I made some changes to the default sharable link:\n",
        "    - Keep the **`1A2B3C4D5E6F7G8H9I0J`** part because this is the unique file ID for the picture\n",
        "    - Deleted **`/view?usp=sharing`** at the end of the link\n",
        "    - Replaced **`/file/d/`** with **`/uc?export=view&id=`**\n",
        "   - Here is an example I referred to:\n",
        "    - Default sharable link\n",
        "```\n",
        "https://drive.google.com/file/d/1A2B3C4D5E6F7G8H9I0J/view?usp=sharing\n",
        "```\n",
        "    - The direct link for view from this example would be\n",
        "```\n",
        "https://drive.google.com/uc?export=view&id=1A2B3C4D5E6F7G8H9I0J\n",
        "```\n",
        "   - The link below is the correct one I need to use in the next section\n",
        "```\n",
        "https://drive.google.com/uc?export=view&id=17fESsU-vCHHAOnxhN456YZEKTpyWT99z\n",
        "```\n",
        "\n",
        "\n",
        "4. **Map**\n",
        "\n",
        "   ![Map](https://drive.google.com/uc?export=view&id=17fESsU-vCHHAOnxhN456YZEKTpyWT99z) <!-- Example Image Placeholder -->"
      ],
      "metadata": {
        "id": "WVs4J1jQbESU"
      }
    },
    {
      "cell_type": "markdown",
      "source": [
        "### **Questions from Mapping Instructions**\n",
        "*   Measurement from Gravel Pit to Lookout Tower: ~ 1,049.7 ft\n",
        "*   Area measurement of squares: 1 square mile\n",
        "\n"
      ],
      "metadata": {
        "id": "DuELUQCiqGvM"
      }
    },
    {
      "cell_type": "markdown",
      "source": [
        "### **Reflection on my first experience with ArcGIS Pro**\n",
        "\n",
        "- Overall, I spent 3 hours to finish creating my first map\n",
        "- Here is a table showing things that I feel excited and challenging in my first experience working in ArcGIS Pro:\n",
        "\n",
        "| Things I'm excited about      | Things challenging for me  |\n",
        "| ----------------------------- | -------------------------- |\n",
        "| GIS! I took a smiliar class (although we used ArcMap) and it was my favorite course that semester! That class actually inspired me to pursue my certification here.| Finding time to come into the lab in the midst of other coursework and projects.\n",
        "|It is gratifying seeing the maps come together.| Finding where all of the tools are and familiarizing myself with how to make changes to things like scale, size, spacing, etc. It's a little different from ArcMap.|\n",
        "| Seeing how I can apply GIS to Architecture. |Navigating between the working map and the layout. I made the mistake of canceling out of the layout view and could not find a way to recover it.|\n",
        "\n",
        "- Here is how I rate my first experience working in ArcGIS Pro:\n",
        "  - Data important and management\n",
        "    - Navigating the data and managing the software is relatively easy. ArcGIS Pro seems to be user-friendly, and comprable to ArcMap. I would rate my experience 10/10.\n",
        "  - Map creation and annotation\n",
        "    - Creating the map was simple enough. I did have trouble going from the map to the laoyout. In ArcMap, there was a toggle at the bottom left corner of the screen that went between views. Unused to ArcGIS Pro, I accidently canceled out of the layout tab and lost my work. Rating: 7.5/10.\n",
        "  - Navigate the software using its GUI\n",
        "    - The software is comprable to ArcMap, so navigating was simple enough. It was tricky in the sense that I was trying to split the screen with the instructions. For future assignments, I may use my laptop for the instructions. My rating: 9.5/10."
      ],
      "metadata": {
        "id": "i4RTLellbUh7"
      }
    },
    {
      "cell_type": "markdown",
      "source": [
        "### **Save and share this notebook**\n",
        "- I made this notebook viewable by anyone with the link\n",
        "- Then I copied this link as my submission to Assignment Week 1\n",
        "https://colab.research.google.com/drive/1KknCQdHWsJD1sKgxY5VLqSayysRtY_Kc?usp=sharing"
      ],
      "metadata": {
        "id": "kkgukjDcXsqC"
      }
    }
  ]
}