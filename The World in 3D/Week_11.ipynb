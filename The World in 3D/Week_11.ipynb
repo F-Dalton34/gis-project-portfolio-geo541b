{
  "nbformat": 4,
  "nbformat_minor": 0,
  "metadata": {
    "colab": {
      "provenance": [],
      "toc_visible": true,
      "include_colab_link": true
    },
    "kernelspec": {
      "name": "python3",
      "display_name": "Python 3"
    },
    "language_info": {
      "name": "python"
    }
  },
  "cells": [
    {
      "cell_type": "markdown",
      "metadata": {
        "id": "view-in-github",
        "colab_type": "text"
      },
      "source": [
        "<a href=\"https://colab.research.google.com/github/F-Dalton34/gis-project-portfolio-geo541b/blob/main/Weekly_Assignments/Week_11.ipynb\" target=\"_parent\"><img src=\"https://colab.research.google.com/assets/colab-badge.svg\" alt=\"Open In Colab\"/></a>"
      ]
    },
    {
      "cell_type": "markdown",
      "source": [
        "# **The World in 3D**\n",
        " Building Heights and Facades"
      ],
      "metadata": {
        "id": "C0ymCPR5aSHN"
      }
    },
    {
      "cell_type": "markdown",
      "source": [
        "🚀 Created by Faith Dalton\n",
        "\n",
        "Due 11/13/2024"
      ],
      "metadata": {
        "id": "Pt_OREXFPvkr"
      }
    },
    {
      "cell_type": "markdown",
      "source": [
        "### **Overview**\n",
        "\n",
        "#### Starting the Project\n",
        "1. Open ArcGIS Pro and create a new project.\n",
        "\n",
        "2. Connect to your folder with the building shapefiles\n",
        "\n",
        "3. Insert the appropriate data into your map (for example: insert the shapefile for building 205-2)\n",
        "\n",
        "#### Creating 3D Buildings\n",
        "1. Go to the \"Insert\" tab\n",
        "\n",
        "2. Select the dropdown menu with the option to add a new map.\n",
        "  - select \"local scene\"\n",
        "  - a 3D scene should now generate\n",
        "\n",
        "3. Import the shapefiles into the local scene.\n",
        "  * note, you will not see the shape appear, because it is not yet a 3D model.\n",
        "\n",
        "4. Select one of the shapefiles in the table of contents.\n",
        "  - select the \"feature layer\" tab > \"extrustion\"\n",
        "    * type = \"max height\"\n",
        "    * field = \"HeightFt\"\n",
        "\n",
        "  Great! A 3D Shape should now appear! But we are still missing an important step before we can add textures!\n",
        "\n",
        "5. Open Geoprocessing tools > \"Layer 3D to Feature Class\"\n",
        "  - Input layer should be one of your shapefiles.\n",
        "  - Output feature class: create a name\n",
        "  - Grouping field: BLOCK_LOT_BLDG\n",
        "  - Make sure \"disable color and texture is NOT checked.\n",
        "\n",
        "6. Remove the original shapefile layer. You no longer need it.\n",
        "* Your 3D shape should now be shaded without any border lines.  \n",
        "\n",
        "#### Adding Material to 3D Object\n",
        "* Make sure that you have downloaded the apprpriate texture images to your connected folder.\n",
        "\n",
        "1. Select the desired shape file\n",
        "\n",
        "2. Select \"Edit\" > \"Editor tool gallery\" > \"Multipatch Texture\"\n",
        "  - upload image as texture\n",
        "  - select the fave you want to add texture to\n",
        "  - adjust size and placement\n",
        "  - save\n",
        "\n",
        "\n",
        "\n",
        "\n",
        "\n"
      ],
      "metadata": {
        "id": "kkgukjDcXsqC"
      }
    },
    {
      "cell_type": "markdown",
      "source": [
        "### **Historical Building Information**\n",
        "\n",
        "#### Building #1\n",
        "- Block Numbner: 205\n",
        "- Lot Number: 2\n",
        "- Building Number: 205-2\n",
        "- Height in Feet: 31\n",
        "- Sanborn Floor Number: 1\n",
        "\n",
        "#### Building #2\n",
        "- Block Numbner: 205\n",
        "- Lot Number: 3\n",
        "- Building Number:205-3\n",
        "- Height in Feet: 51\n",
        "- Sanborn Floor Number: 3\n",
        "\n",
        "#### Building #3\n",
        "- Block Numbner: 205\n",
        "- Lot Number: 4\n",
        "- Building Number:205-4\n",
        "- Height in Feet: 31\n",
        "- Sanborn Floor Number: 1\n",
        "\n",
        "![Facade Screenshot](https://drive.google.com/uc?export=view&id=1mCDC3zcuS_2apvVgw3hW2WjcfwmbdKie)"
      ],
      "metadata": {
        "id": "b3DA3ltILDIp"
      }
    },
    {
      "cell_type": "markdown",
      "source": [
        "## **Reference**\n",
        "\n",
        "- [Markdown cheat sheet](https://www.markdownguide.org/cheat-sheet/)\n",
        "- [Insert other references]"
      ],
      "metadata": {
        "id": "fvMbEX89YLeY"
      }
    },
    {
      "cell_type": "code",
      "source": [],
      "metadata": {
        "id": "PRBaEGAjbyiK"
      },
      "execution_count": null,
      "outputs": []
    }
  ]
}