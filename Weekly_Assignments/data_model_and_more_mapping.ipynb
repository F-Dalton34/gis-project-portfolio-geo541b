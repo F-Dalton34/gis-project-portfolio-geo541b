{
  "nbformat": 4,
  "nbformat_minor": 0,
  "metadata": {
    "colab": {
      "provenance": [],
      "include_colab_link": true
    },
    "kernelspec": {
      "name": "python3",
      "display_name": "Python 3"
    },
    "language_info": {
      "name": "python"
    }
  },
  "cells": [
    {
      "cell_type": "markdown",
      "metadata": {
        "id": "view-in-github",
        "colab_type": "text"
      },
      "source": [
        "<a href=\"https://colab.research.google.com/github/F-Dalton34/gis-project-portfolio-geo541b/blob/main/Weekly_Assignments/data_model_and_more_mapping.ipynb\" target=\"_parent\"><img src=\"https://colab.research.google.com/assets/colab-badge.svg\" alt=\"Open In Colab\"/></a>"
      ]
    },
    {
      "cell_type": "markdown",
      "source": [
        "# **GEO 441B/541B Week 2 Assignment: Data Model and More Mapping**"
      ],
      "metadata": {
        "id": "C0ymCPR5aSHN"
      }
    },
    {
      "cell_type": "markdown",
      "source": [
        "🚀 Created by Faith Dalton\n",
        "\n",
        "Due: 9/10/2024\n",
        "\n",
        "Completed: 9/6/2024"
      ],
      "metadata": {
        "id": "Pt_OREXFPvkr"
      }
    },
    {
      "cell_type": "markdown",
      "source": [
        "## **Get ready to start**\n",
        "\n",
        "- Click **`File/Save a copy in Drive`** to save a copy of this notebook to my own Google Drive"
      ],
      "metadata": {
        "id": "CMQN_pgaHVLO"
      }
    },
    {
      "cell_type": "markdown",
      "source": [
        "## **Adding multiple map frames to one layout**\n"
      ],
      "metadata": {
        "id": "WVs4J1jQbESU"
      }
    },
    {
      "cell_type": "markdown",
      "source": [
        "\n",
        "### **Map with only one map frame**\n",
        "\n",
        "- Below is a map with only one map frame that I created last week\n",
        "\n",
        "```markdown\n",
        "https://drive.google.com/file/d/17fESsU-vCHHAOnxhN456YZEKTpyWT99z/view?usp=sharing\n",
        "```\n",
        "\n",
        "- After finishing the two steps below, I was able to create a link can be correctly rendered in Google Colab to show the map\n",
        "  - Deleted **`/view?usp=sharing`** at the end of the link\n",
        "  - Replaced **`/file/d/`** with **`/uc?export=view&id=`**\n",
        "\n",
        "```markdown\n",
        "https://drive.google.com/uc?export=view&id=17fESsU-vCHHAOnxhN456YZEKTpyWT99z\n",
        "```\n",
        "\n",
        "- [View the map here](https://drive.google.com/uc?export=view&id=17fESsU-vCHHAOnxhN456YZEKTpyWT99z)"
      ],
      "metadata": {
        "id": "GSCJLg-YkOIx"
      }
    },
    {
      "cell_type": "markdown",
      "source": [
        "###**Map with multiple map frames**\n",
        "\n",
        "- Below is a map with **two map frames** I prepared this week\n",
        "\n",
        "```markdown\n",
        "https://drive.google.com/file/d/1Zg7fPMcj1zIoTxFriER5_-XWOWqVsIek/view?usp=sharing\n",
        "```\n",
        "\n",
        "- After finishing the two steps below, I was able to create a link can be correctly rendered in Google Colab to show the map\n",
        "  - Deleted **`/view?usp=sharing`** at the end of the link\n",
        "  - Replaced **`/file/d/`** with **`/uc?export=view&id=`**\n",
        "\n",
        "```markdown\n",
        "https://drive.google.com/uc?export=view&id=1Zg7fPMcj1zIoTxFriER5_-XWOWqVsIek\n",
        "```\n",
        "\n",
        "- [View the map here](https://drive.google.com/uc?export=view&id=1Zg7fPMcj1zIoTxFriER5_-XWOWqVsIek)"
      ],
      "metadata": {
        "id": "wkJqun7umRRk"
      }
    },
    {
      "cell_type": "markdown",
      "source": [
        "##**Create a geodatabase in ArcGIS Pro**\n",
        "\n",
        "- Follow directions in [this file](https://miamioh.instructure.com/courses/218994/files/32772417?wrap=1) to create a new geodatabase and feature dataset using ArcGIS Pro\n",
        "\n",
        "- Insert a screenshot of the content of my newly created geodatabase below\n",
        "  - [Taking a screenshot in Windows PC](https://www.cnet.com/tech/computing/need-to-take-a-screenshot-with-windows-11-heres-how/)\n",
        "  - [Taking a screenshot in macOS](https://support.apple.com/en-us/102646#:~:text=How%20to%20take%20a%20screenshot,it%20to%20edit%20the%20screenshot.)\n",
        "    - Mac users: if you are using remote access to finish this step, please follow the directions of taking a screenshot in macOS to obtain your screenshot\n",
        "- I can follow the directions in the previous section to obtain a shareable link from Google Drive and turn it into a render-able format for Google Colab\n",
        "- [View the screenshot here](https://drive.google.com/uc?export=view&id=1FfhnEfVcPlSlHBVWBGyJ80fh28dzAaW9)"
      ],
      "metadata": {
        "id": "Y1LEwJhSmiRU"
      }
    },
    {
      "cell_type": "markdown",
      "source": [
        "## **Reflection on data management function in ArcGIS Pro**\n",
        "\n",
        "- **Write a 100-word paragraph to describe the relationship between**\n",
        "  - **`Geodatabase`**\n",
        "  - **`Feature Dataset`**\n",
        "  - **`Feature Classes`**\n",
        "  - You can refer to **Page 9** of [assignment guide](https://miamioh.instructure.com/files/32771219/download?download_frd=1) or other resources online, such as\n",
        "    - [Fundamentals of geodatabase](https://pro.arcgis.com/en/pro-app/latest/help/data/geodatabases/overview/fundamentals-of-the-geodatabase.htm)\n",
        "    - [Feature datasets in ArcGIS Pro](https://pro.arcgis.com/en/pro-app/latest/help/data/feature-datasets/feature-datasets-in-arcgis-pro.htm)\n",
        "\n",
        "- A **geodatabase** is a great way to organize data that is used together. Rasters, vectors, points, topology, and polygons can be stored together in databases to specify common coordinate systems, extent, and other characteristics.\n",
        "-A **feature dataset** is a collection of related spatial data. Feature datatsets are similar to folders containing files of imported data. For instance, I may want to create a map of a golf course and my shot statistics. If I wanted to better organize that data, I could create a feature dataset for each hole, that dataset would contain the layers for fairways, greens, teeboxes, and then points indicating where my shots landed.\n",
        "- A **feature class** is the layer that is stored within the datasets. From my previous example with mapping a golf course, the feature classes would be the shapefiles for the greens, fairways, teeboxes, and shots.\n"
      ],
      "metadata": {
        "id": "i4RTLellbUh7"
      }
    },
    {
      "cell_type": "markdown",
      "source": [
        "## **Save and share this notebook**\n",
        "\n",
        "- I made this notebook viewable by anyone with the link and submit the link to Canvas as Week 2 assignment"
      ],
      "metadata": {
        "id": "kkgukjDcXsqC"
      }
    },
    {
      "cell_type": "markdown",
      "source": [
        "## **Reference**\n",
        "\n",
        "- [Markdown cheat sheet](https://www.markdownguide.org/cheat-sheet/)\n",
        "- [Insert other references]"
      ],
      "metadata": {
        "id": "fvMbEX89YLeY"
      }
    }
  ]
}